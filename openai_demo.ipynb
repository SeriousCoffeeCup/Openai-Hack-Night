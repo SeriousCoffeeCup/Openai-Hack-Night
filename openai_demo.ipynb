{
 "cells": [
  {
   "cell_type": "code",
   "execution_count": null,
   "metadata": {},
   "outputs": [],
   "source": []
  },
  {
   "cell_type": "code",
   "execution_count": 2,
   "metadata": {},
   "outputs": [],
   "source": [
    "import openai\n",
    "import mersenne_api_key\n",
    "import csv "
   ]
  },
  {
   "cell_type": "code",
   "execution_count": 3,
   "metadata": {},
   "outputs": [
    {
     "name": "stdout",
     "output_type": "stream",
     "text": [
      "After running `git fetch`, you have retrieved the latest changes from the remote repository, but those changes have not been applied to your local branches yet. Here's what you should do next:\n",
      "\n",
      "1. **Check the Status:**\n",
      "   Start by checking the status of your branches to understand what changes have been fetched. You can use:\n",
      "   ```bash\n",
      "   git status\n",
      "   ```\n",
      "\n",
      "2. **Inspect the Changes:**\n",
      "   To see what changes have been fetched, you can compare your local branches to their remote counterparts. For instance, if you are on the `main` branch, you can run:\n",
      "   ```bash\n",
      "   git log HEAD..origin/main\n",
      "   ```\n",
      "   This will show you the commits that are on `origin/main` but not on your local `main`.\n",
      "\n",
      "3. **Merging Changes:**\n",
      "   If you're on a branch like `main` or `develop` and you want to integrate the changes you fetched, you'll need to merge the remote branch into your current branch. If you're on `main`, you can do:\n",
      "   ```bash\n",
      "   git merge origin/main\n",
      "   ```\n",
      "   This will merge the fetched changes from `origin/main` into your current `main` branch.\n",
      "\n",
      "4. **Rebasing (Optional):**\n",
      "   Instead of merging, another approach is to rebase your branch. This can be useful if you want to maintain a linear project history:\n",
      "   ```bash\n",
      "   git rebase origin/main\n",
      "   ```\n",
      "   Note that rebasing changes history, so be cautious when using rebase on shared branches.\n",
      "\n",
      "5. **Resolve Conflicts (if any):**\n",
      "   During the merge or rebase process, you might encounter merge conflicts. Git will notify you about these conflicts:\n",
      "   - Open the files with conflicts and decide how to resolve them.\n",
      "   - After resolving, mark them as resolved with:\n",
      "     ```bash\n",
      "     git add <file>\n",
      "     ```\n",
      "   - Complete the merge or rebase process with:\n",
      "     ```bash\n",
      "     git merge --continue\n",
      "     ```\n",
      "     or\n",
      "     ```bash\n",
      "     git rebase --continue\n",
      "     ```\n",
      "\n",
      "Always ensure that you understand the impact of the merge or rebase operations, especially when working in a collaborative environment.\n"
     ]
    }
   ],
   "source": [
    "# You need to set up your own key \n",
    "openai.api_key = mersenne_api_key.api_key\n",
    "\n",
    "sysrole = \"Software Engineer\"\n",
    "prompt = \"Tell me what to do after using a git fetch. Where do I merge from?\"\n",
    "\n",
    "# Request structure\n",
    "response = openai.chat.completions.create(\n",
    "    model=\"gpt-4o\",\n",
    "    messages=[\n",
    "        {\"role\": \"system\", \"content\": sysrole},\n",
    "        {\"role\": \"user\", \"content\": prompt},\n",
    "    ]\n",
    ")\n",
    "\n",
    "\"\"\"\n",
    "Example Output:\n",
    "ChatCompletionMessage(content='Hello, this is a test! How can I assist you today?', refusal=None, role='assistant', function_call=None, tool_calls=None)\n",
    "\"\"\" \n",
    "output = response.choices[0].message.content\n",
    "print(output)\n",
    "\n",
    "# Store in a .csv file. Create .csv if it didn't exist.\n",
    "data_entry = [[sysrole, prompt, output]]\n",
    "with open('output.csv', 'a+', newline='') as file:\n",
    "    writer = csv.writer(file)\n",
    "    writer.writerows(data_entry)"
   ]
  }
 ],
 "metadata": {
  "kernelspec": {
   "display_name": "pyrag",
   "language": "python",
   "name": "python3"
  },
  "language_info": {
   "codemirror_mode": {
    "name": "ipython",
    "version": 3
   },
   "file_extension": ".py",
   "mimetype": "text/x-python",
   "name": "python",
   "nbconvert_exporter": "python",
   "pygments_lexer": "ipython3",
   "version": "3.10.12"
  }
 },
 "nbformat": 4,
 "nbformat_minor": 2
}
